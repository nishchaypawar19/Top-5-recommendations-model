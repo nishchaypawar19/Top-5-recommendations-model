{
  "nbformat": 4,
  "nbformat_minor": 0,
  "metadata": {
    "colab": {
      "provenance": []
    },
    "kernelspec": {
      "name": "python3",
      "display_name": "Python 3"
    },
    "language_info": {
      "name": "python"
    }
  },
  "cells": [
    {
      "cell_type": "code",
      "execution_count": 1,
      "metadata": {
        "id": "QTL0TSmeS_CM"
      },
      "outputs": [],
      "source": [
        "import pandas as pd\n",
        "import numpy as np\n",
        "import ast\n",
        "import matplotlib.pyplot as plt\n",
        "from sklearn.feature_extraction.text import CountVectorizer\n",
        "from sklearn.metrics.pairwise import cosine_similarity\n",
        "from wordcloud import WordCloud"
      ]
    },
    {
      "cell_type": "code",
      "source": [
        "# Load datasets\n",
        "movies = pd.read_csv(\"/content/tmdb_5000_credits.csv\")\n",
        "credits = pd.read_csv(\"/content/tmdb_5000_movies.csv\")"
      ],
      "metadata": {
        "id": "O3DwU0TdTJdG"
      },
      "execution_count": 3,
      "outputs": []
    },
    {
      "cell_type": "code",
      "source": [
        "# Merge on 'title'\n",
        "movies = movies.merge(credits, left_on='title', right_on='title')\n",
        "\n",
        "\n",
        "# Select useful columns\n",
        "movies = movies[['movie_id', 'title', 'overview', 'genres', 'keywords', 'cast', 'crew']]\n",
        "\n",
        "\n",
        "# Drop missing values\n",
        "movies.dropna(inplace=True)"
      ],
      "metadata": {
        "id": "fyg8E3Y7TQl3"
      },
      "execution_count": 4,
      "outputs": []
    },
    {
      "cell_type": "code",
      "source": [
        "# Function to convert stringified JSON to list of names\n",
        "def convert(obj):\n",
        "    L = []\n",
        "    for i in ast.literal_eval(obj):\n",
        "        L.append(i['name'])\n",
        "    return L\n",
        "\n",
        "\n",
        "# Function to extract top 3 actors\n",
        "def convert_cast(obj):\n",
        "    L = []\n",
        "    count = 0\n",
        "    for i in ast.literal_eval(obj):\n",
        "        if count < 3:\n",
        "            L.append(i['name'])\n",
        "            count += 1\n",
        "        else:\n",
        "            break\n",
        "    return L\n"
      ],
      "metadata": {
        "colab": {
          "base_uri": "https://localhost:8080/",
          "height": 106
        },
        "id": "nJq-6tC3TWb_",
        "outputId": "7ce1965c-d90b-49c6-d623-7d8094a5133c"
      },
      "execution_count": 8,
      "outputs": [
        {
          "output_type": "error",
          "ename": "IndentationError",
          "evalue": "expected an indented block after function definition on line 21 (ipython-input-1447833699.py, line 22)",
          "traceback": [
            "\u001b[0;36m  File \u001b[0;32m\"/tmp/ipython-input-1447833699.py\"\u001b[0;36m, line \u001b[0;32m22\u001b[0m\n\u001b[0;31m    for i in ast.literal_eval(obj):\u001b[0m\n\u001b[0m    ^\u001b[0m\n\u001b[0;31mIndentationError\u001b[0m\u001b[0;31m:\u001b[0m expected an indented block after function definition on line 21\n"
          ]
        }
      ]
    },
    {
      "cell_type": "code",
      "source": [
        "# Function to extract director\n",
        "def fetch_director(obj):\n",
        "    for i in ast.literal_eval(obj):\n",
        "        if i['job'] == 'Director':\n",
        "            return [i['name']]\n",
        "    return []"
      ],
      "metadata": {
        "id": "_o0ATv0dTdgU"
      },
      "execution_count": 9,
      "outputs": []
    },
    {
      "cell_type": "code",
      "source": [
        "movies['genres'] = movies['genres'].apply(convert)\n",
        "movies['keywords'] = movies['keywords'].apply(convert)\n",
        "movies['cast'] = movies['cast'].apply(convert_cast)\n",
        "movies['crew'] = movies['crew'].apply(fetch_director)\n",
        "\n",
        "\n",
        "# Convert overview into list\n",
        "movies['overview'] = movies['overview'].apply(lambda x: x.split())\n",
        "\n",
        "\n",
        "# Remove spaces from multi-word names\n",
        "movies['genres'] = movies['genres'].apply(lambda x: [i.replace(\" \", \"\") for i in x])\n",
        "movies['keywords'] = movies['keywords'].apply(lambda x: [i.replace(\" \", \"\") for i in x])\n",
        "movies['cast'] = movies['cast'].apply(lambda x: [i.replace(\" \", \"\") for i in x])\n",
        "movies['crew'] = movies['crew'].apply(lambda x: [i.replace(\" \", \"\") for i in x])\n",
        "\n",
        "\n",
        "# Create tags column\n",
        "movies['tags'] = movies['overview'] + movies['genres'] + movies['keywords'] + movies['cast'] + movies['crew']\n",
        "\n",
        "\n",
        "new_df = movies[['movie_id', 'title', 'tags']]\n",
        "\n",
        "\n",
        "# Join list into string\n",
        "new_df['tags'] = new_df['tags'].apply(lambda x: \" \".join(x))"
      ],
      "metadata": {
        "colab": {
          "base_uri": "https://localhost:8080/"
        },
        "id": "YagM83WXTuFc",
        "outputId": "4e46754a-d701-4837-ef9b-aa3c6043e6ec"
      },
      "execution_count": 10,
      "outputs": [
        {
          "output_type": "stream",
          "name": "stderr",
          "text": [
            "/tmp/ipython-input-3864540945.py:26: SettingWithCopyWarning: \n",
            "A value is trying to be set on a copy of a slice from a DataFrame.\n",
            "Try using .loc[row_indexer,col_indexer] = value instead\n",
            "\n",
            "See the caveats in the documentation: https://pandas.pydata.org/pandas-docs/stable/user_guide/indexing.html#returning-a-view-versus-a-copy\n",
            "  new_df['tags'] = new_df['tags'].apply(lambda x: \" \".join(x))\n"
          ]
        }
      ]
    },
    {
      "cell_type": "code",
      "source": [
        "# Text vectorization\n",
        "cv = CountVectorizer(max_features=5000, stop_words='english')\n",
        "vectors = cv.fit_transform(new_df['tags']).toarray()\n",
        "\n",
        "\n",
        "# Cosine similarity\n",
        "similarity = cosine_similarity(vectors)\n",
        "\n",
        "\n",
        "# Recommendation function with visualization\n",
        "def recommend(movie):\n",
        "    if movie not in new_df['title'].values:\n",
        "        print(\"Movie not found in dataset.\")\n",
        "        return\n",
        "\n",
        "    movie_index = new_df[new_df['title'] == movie].index[0]\n",
        "    distances = similarity[movie_index]\n",
        "    movies_list = sorted(list(enumerate(distances)), reverse=True, key=lambda x: x[1])[1:6]\n",
        "\n",
        "    print(\"Top 5 recommendations for:\", movie)\n",
        "    recommended_titles = []\n",
        "    scores = []\n",
        "    for i in movies_list:\n",
        "        title = new_df.iloc[i[0]].title\n",
        "        score = i[1]\n",
        "        recommended_titles.append(title)\n",
        "        scores.append(score)\n",
        "        print(title, \" (Similarity:\", round(score, 3), \")\")\n",
        "\n",
        "    # Visualization: Bar chart of similarity scores\n",
        "    plt.figure(figsize=(8,5))\n",
        "    plt.barh(recommended_titles[::-1], scores[::-1], color='skyblue')\n",
        "    plt.xlabel(\"Cosine Similarity Score\")\n",
        "    plt.title(f\"Top 5 Recommendations for '{movie}'\")\n",
        "    plt.show()"
      ],
      "metadata": {
        "id": "8zcHaUHMTz-s"
      },
      "execution_count": 14,
      "outputs": []
    },
    {
      "cell_type": "code",
      "source": [
        "recommend('Avatar')\n"
      ],
      "metadata": {
        "colab": {
          "base_uri": "https://localhost:8080/",
          "height": 591
        },
        "id": "3JBSAiWtUgk8",
        "outputId": "aefa0c2e-777f-4adc-8b72-d7f924fa0a21"
      },
      "execution_count": 18,
      "outputs": [
        {
          "output_type": "stream",
          "name": "stdout",
          "text": [
            "Top 5 recommendations for: Avatar\n",
            "Titan A.E.  (Similarity: 0.25 )\n",
            "Small Soldiers  (Similarity: 0.248 )\n",
            "Independence Day  (Similarity: 0.243 )\n",
            "Ender's Game  (Similarity: 0.241 )\n",
            "Aliens vs Predator: Requiem  (Similarity: 0.239 )\n"
          ]
        },
        {
          "output_type": "display_data",
          "data": {
            "text/plain": [
              "<Figure size 800x500 with 1 Axes>"
            ],
            "image/png": "[encoded data removed]"
          },
          "metadata": {}
        }
      ]
    }
  ]
}